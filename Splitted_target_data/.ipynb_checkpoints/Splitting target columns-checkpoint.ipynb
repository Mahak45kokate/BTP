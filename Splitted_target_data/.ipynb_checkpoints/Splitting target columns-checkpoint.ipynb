{
 "cells": [
  {
   "cell_type": "code",
   "execution_count": 1,
   "id": "8fd10142",
   "metadata": {},
   "outputs": [],
   "source": [
    "import pandas as pd\n",
    "\n",
    "# Load the profile.csv file\n",
    "profile_df = pd.read_csv('profile.csv', header=None)\n",
    "\n",
    "# Assuming the columns are in the following order:\n",
    "# Column 0: Cooler target\n",
    "# Column 1: Valve target\n",
    "# Column 2: Pump target\n",
    "# Column 3: Accumulator target\n",
    "# Column 4: Stable flag\n",
    "\n",
    "# Define the target names and corresponding column indexes\n",
    "targets = {\n",
    "    'cooler_target.csv': 0,\n",
    "    'valve_target.csv': 1,\n",
    "    'pump_target.csv': 2,\n",
    "    'accumulator_target.csv': 3,\n",
    "    'stable_flag.csv': 4\n",
    "}\n",
    "\n",
    "# Split the DataFrame and save each target to a separate CSV file\n",
    "for file_name, col_index in targets.items():\n",
    "    target_df = profile_df[[col_index]]  # Select the target column\n",
    "    target_df.to_csv(file_name, index=False, header=False)  # Save to CSV without index and header\n"
   ]
  },
  {
   "cell_type": "code",
   "execution_count": 1,
   "id": "48bda979",
   "metadata": {},
   "outputs": [],
   "source": [
    "import pandas as pd\n",
    "\n",
    "# Load the valve_target.csv file\n",
    "valve_df = pd.read_csv('valve_target.csv', header=None)\n",
    "\n",
    "# Define the mapping for label encoding\n",
    "# Mapping from original values to encoded values\n",
    "label_mapping = {\n",
    "    100: 0,  # optimal switching behavior\n",
    "    90: 1,   # small lag\n",
    "    80: 2,   # severe lag\n",
    "    73: 3    # close to total failure\n",
    "}\n",
    "\n",
    "# Create a new column for the encoded labels\n",
    "valve_df['encoded'] = valve_df[0].map(label_mapping)\n",
    "\n",
    "# Save the new DataFrame with encoded labels to a new CSV file\n",
    "valve_df.to_csv('valve_target_encoded.csv', index=False, header=False)\n",
    "\n",
    "# Optionally, if you want to keep only the encoded column, uncomment the next line:\n",
    "# valve_df[['encoded']].to_csv('valve_target_encoded_only.csv', index=False, header=False)\n"
   ]
  },
  {
   "cell_type": "code",
   "execution_count": null,
   "id": "bacbb429",
   "metadata": {},
   "outputs": [],
   "source": []
  }
 ],
 "metadata": {
  "kernelspec": {
   "display_name": "Python 3 (ipykernel)",
   "language": "python",
   "name": "python3"
  },
  "language_info": {
   "codemirror_mode": {
    "name": "ipython",
    "version": 3
   },
   "file_extension": ".py",
   "mimetype": "text/x-python",
   "name": "python",
   "nbconvert_exporter": "python",
   "pygments_lexer": "ipython3",
   "version": "3.10.13"
  }
 },
 "nbformat": 4,
 "nbformat_minor": 5
}
