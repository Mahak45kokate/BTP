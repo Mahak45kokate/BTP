{
 "cells": [
  {
   "cell_type": "code",
   "execution_count": 1,
   "id": "f7c0199d",
   "metadata": {},
   "outputs": [],
   "source": [
    "import pandas as pd\n",
    "\n",
    "# Read the CSV file\n",
    "data = pd.read_csv('profile.csv', header=None)\n",
    "\n",
    "# Number of columns\n",
    "num_cols = data.shape[1]\n",
    "\n",
    "# Loop through each column\n",
    "for col in range(num_cols):\n",
    "    # Get the unique values in the current column\n",
    "    unique_values = data[col].unique()\n",
    "    \n",
    "    # Create a mapping from unique values to labels\n",
    "    value_to_label = {val: idx for idx, val in enumerate(unique_values)}\n",
    "    \n",
    "    # Replace the unique values in the column with their corresponding labels\n",
    "    data[col] = data[col].map(value_to_label)\n",
    "\n",
    "# Save the labeled data to a new CSV file\n",
    "data.to_csv('labeled_profile.csv', index=False, header=False)\n"
   ]
  },
  {
   "cell_type": "code",
   "execution_count": 2,
   "id": "eed0dab0",
   "metadata": {},
   "outputs": [
    {
     "name": "stdout",
     "output_type": "stream",
     "text": [
      "      0  1  2  3  4\n",
      "0     0  0  0  0  0\n",
      "1     0  0  0  0  0\n",
      "2     0  0  0  0  0\n",
      "3     0  0  0  0  0\n",
      "4     0  0  0  0  0\n",
      "...  .. .. .. .. ..\n",
      "2200  2  0  0  3  1\n",
      "2201  2  0  0  3  1\n",
      "2202  2  0  0  3  1\n",
      "2203  2  0  0  3  1\n",
      "2204  2  0  0  3  1\n",
      "\n",
      "[2205 rows x 5 columns]\n"
     ]
    }
   ],
   "source": [
    "data = pd.read_csv('labeled_profile.csv', header=None)\n",
    "\n",
    "print(data)\n",
    " "
   ]
  },
  {
   "cell_type": "code",
   "execution_count": 3,
   "id": "52937a23",
   "metadata": {},
   "outputs": [
    {
     "data": {
      "text/html": [
       "<div>\n",
       "<style scoped>\n",
       "    .dataframe tbody tr th:only-of-type {\n",
       "        vertical-align: middle;\n",
       "    }\n",
       "\n",
       "    .dataframe tbody tr th {\n",
       "        vertical-align: top;\n",
       "    }\n",
       "\n",
       "    .dataframe thead th {\n",
       "        text-align: right;\n",
       "    }\n",
       "</style>\n",
       "<table border=\"1\" class=\"dataframe\">\n",
       "  <thead>\n",
       "    <tr style=\"text-align: right;\">\n",
       "      <th></th>\n",
       "      <th>0</th>\n",
       "      <th>1</th>\n",
       "      <th>2</th>\n",
       "      <th>3</th>\n",
       "      <th>4</th>\n",
       "    </tr>\n",
       "  </thead>\n",
       "  <tbody>\n",
       "    <tr>\n",
       "      <th>count</th>\n",
       "      <td>2205.000000</td>\n",
       "      <td>2205.000000</td>\n",
       "      <td>2205.000000</td>\n",
       "      <td>2205.000000</td>\n",
       "      <td>2205.000000</td>\n",
       "    </tr>\n",
       "    <tr>\n",
       "      <th>mean</th>\n",
       "      <td>1.004082</td>\n",
       "      <td>0.979592</td>\n",
       "      <td>0.669388</td>\n",
       "      <td>1.642177</td>\n",
       "      <td>0.657143</td>\n",
       "    </tr>\n",
       "    <tr>\n",
       "      <th>std</th>\n",
       "      <td>0.817505</td>\n",
       "      <td>1.151831</td>\n",
       "      <td>0.817233</td>\n",
       "      <td>1.227461</td>\n",
       "      <td>0.474772</td>\n",
       "    </tr>\n",
       "    <tr>\n",
       "      <th>min</th>\n",
       "      <td>0.000000</td>\n",
       "      <td>0.000000</td>\n",
       "      <td>0.000000</td>\n",
       "      <td>0.000000</td>\n",
       "      <td>0.000000</td>\n",
       "    </tr>\n",
       "    <tr>\n",
       "      <th>25%</th>\n",
       "      <td>0.000000</td>\n",
       "      <td>0.000000</td>\n",
       "      <td>0.000000</td>\n",
       "      <td>0.000000</td>\n",
       "      <td>0.000000</td>\n",
       "    </tr>\n",
       "    <tr>\n",
       "      <th>50%</th>\n",
       "      <td>1.000000</td>\n",
       "      <td>0.000000</td>\n",
       "      <td>0.000000</td>\n",
       "      <td>2.000000</td>\n",
       "      <td>1.000000</td>\n",
       "    </tr>\n",
       "    <tr>\n",
       "      <th>75%</th>\n",
       "      <td>2.000000</td>\n",
       "      <td>2.000000</td>\n",
       "      <td>1.000000</td>\n",
       "      <td>3.000000</td>\n",
       "      <td>1.000000</td>\n",
       "    </tr>\n",
       "    <tr>\n",
       "      <th>max</th>\n",
       "      <td>2.000000</td>\n",
       "      <td>3.000000</td>\n",
       "      <td>2.000000</td>\n",
       "      <td>3.000000</td>\n",
       "      <td>1.000000</td>\n",
       "    </tr>\n",
       "  </tbody>\n",
       "</table>\n",
       "</div>"
      ],
      "text/plain": [
       "                 0            1            2            3            4\n",
       "count  2205.000000  2205.000000  2205.000000  2205.000000  2205.000000\n",
       "mean      1.004082     0.979592     0.669388     1.642177     0.657143\n",
       "std       0.817505     1.151831     0.817233     1.227461     0.474772\n",
       "min       0.000000     0.000000     0.000000     0.000000     0.000000\n",
       "25%       0.000000     0.000000     0.000000     0.000000     0.000000\n",
       "50%       1.000000     0.000000     0.000000     2.000000     1.000000\n",
       "75%       2.000000     2.000000     1.000000     3.000000     1.000000\n",
       "max       2.000000     3.000000     2.000000     3.000000     1.000000"
      ]
     },
     "execution_count": 3,
     "metadata": {},
     "output_type": "execute_result"
    }
   ],
   "source": [
    "data.describe()"
   ]
  },
  {
   "cell_type": "code",
   "execution_count": 4,
   "id": "d04cf9c2",
   "metadata": {},
   "outputs": [
    {
     "name": "stdout",
     "output_type": "stream",
     "text": [
      "<class 'pandas.core.frame.DataFrame'>\n",
      "RangeIndex: 2205 entries, 0 to 2204\n",
      "Data columns (total 5 columns):\n",
      " #   Column  Non-Null Count  Dtype\n",
      "---  ------  --------------  -----\n",
      " 0   0       2205 non-null   int64\n",
      " 1   1       2205 non-null   int64\n",
      " 2   2       2205 non-null   int64\n",
      " 3   3       2205 non-null   int64\n",
      " 4   4       2205 non-null   int64\n",
      "dtypes: int64(5)\n",
      "memory usage: 86.3 KB\n"
     ]
    }
   ],
   "source": [
    "data.info()"
   ]
  },
  {
   "cell_type": "code",
   "execution_count": null,
   "id": "3014d1e5",
   "metadata": {},
   "outputs": [],
   "source": []
  }
 ],
 "metadata": {
  "kernelspec": {
   "display_name": "Python 3 (ipykernel)",
   "language": "python",
   "name": "python3"
  },
  "language_info": {
   "codemirror_mode": {
    "name": "ipython",
    "version": 3
   },
   "file_extension": ".py",
   "mimetype": "text/x-python",
   "name": "python",
   "nbconvert_exporter": "python",
   "pygments_lexer": "ipython3",
   "version": "3.9.13"
  }
 },
 "nbformat": 4,
 "nbformat_minor": 5
}
